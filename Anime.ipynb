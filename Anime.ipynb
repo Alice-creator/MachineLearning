{
  "cells": [
    {
      "cell_type": "markdown",
      "metadata": {
        "id": "aLUOILGbNiup"
      },
      "source": [
        "# Recommender Sys (Content based)\n"
      ]
    },
    {
      "cell_type": "code",
      "execution_count": 3,
      "metadata": {
        "id": "yqp7poywTx87"
      },
      "outputs": [],
      "source": [
        "import pandas as pd\n",
        "import matplotlib.pyplot as plt\n",
        "import numpy as np\n",
        "df_rating = pd.read_csv('../MachineLearning/data/rating.csv')\n",
        "df_anime = pd.read_csv('../MachineLearning/data/anime.csv')"
      ]
    },
    {
      "cell_type": "code",
      "execution_count": 4,
      "metadata": {
        "colab": {
          "base_uri": "https://localhost:8080/"
        },
        "id": "qpyBQkYyYRH_",
        "outputId": "28442f78-0d0d-46c7-f05c-ef6333240e4c"
      },
      "outputs": [
        {
          "name": "stdout",
          "output_type": "stream",
          "text": [
            "<class 'pandas.core.frame.DataFrame'>\n",
            "RangeIndex: 7813737 entries, 0 to 7813736\n",
            "Data columns (total 3 columns):\n",
            " #   Column    Dtype\n",
            "---  ------    -----\n",
            " 0   user_id   int64\n",
            " 1   anime_id  int64\n",
            " 2   rating    int64\n",
            "dtypes: int64(3)\n",
            "memory usage: 178.8 MB\n",
            "(7813737, 3) \n",
            "\n",
            " None\n",
            "<class 'pandas.core.frame.DataFrame'>\n",
            "RangeIndex: 12294 entries, 0 to 12293\n",
            "Data columns (total 7 columns):\n",
            " #   Column    Non-Null Count  Dtype  \n",
            "---  ------    --------------  -----  \n",
            " 0   anime_id  12294 non-null  int64  \n",
            " 1   name      12294 non-null  object \n",
            " 2   genre     12232 non-null  object \n",
            " 3   type      12269 non-null  object \n",
            " 4   episodes  12294 non-null  object \n",
            " 5   rating    12064 non-null  float64\n",
            " 6   members   12294 non-null  int64  \n",
            "dtypes: float64(1), int64(2), object(4)\n",
            "memory usage: 672.5+ KB\n",
            "(12294, 7) \n",
            "\n",
            " None\n"
          ]
        }
      ],
      "source": [
        "print(df_rating.shape, '\\n\\n', df_rating.info())\n",
        "print(df_anime.shape, '\\n\\n', df_anime.info())\n",
        "df_rating.dropna(inplace=True)\n",
        "df_anime.dropna(inplace=True)"
      ]
    },
    {
      "cell_type": "code",
      "execution_count": 5,
      "metadata": {
        "colab": {
          "base_uri": "https://localhost:8080/",
          "height": 206
        },
        "id": "EU3wWBSxU-2c",
        "outputId": "18dcedc9-6025-4a45-d3e7-8bcd8d5fe431"
      },
      "outputs": [
        {
          "data": {
            "text/html": [
              "<div>\n",
              "<style scoped>\n",
              "    .dataframe tbody tr th:only-of-type {\n",
              "        vertical-align: middle;\n",
              "    }\n",
              "\n",
              "    .dataframe tbody tr th {\n",
              "        vertical-align: top;\n",
              "    }\n",
              "\n",
              "    .dataframe thead th {\n",
              "        text-align: right;\n",
              "    }\n",
              "</style>\n",
              "<table border=\"1\" class=\"dataframe\">\n",
              "  <thead>\n",
              "    <tr style=\"text-align: right;\">\n",
              "      <th></th>\n",
              "      <th>user_id</th>\n",
              "      <th>anime_id</th>\n",
              "      <th>rating</th>\n",
              "    </tr>\n",
              "  </thead>\n",
              "  <tbody>\n",
              "    <tr>\n",
              "      <th>0</th>\n",
              "      <td>1</td>\n",
              "      <td>20</td>\n",
              "      <td>-1</td>\n",
              "    </tr>\n",
              "    <tr>\n",
              "      <th>1</th>\n",
              "      <td>1</td>\n",
              "      <td>24</td>\n",
              "      <td>-1</td>\n",
              "    </tr>\n",
              "    <tr>\n",
              "      <th>2</th>\n",
              "      <td>1</td>\n",
              "      <td>79</td>\n",
              "      <td>-1</td>\n",
              "    </tr>\n",
              "    <tr>\n",
              "      <th>3</th>\n",
              "      <td>1</td>\n",
              "      <td>226</td>\n",
              "      <td>-1</td>\n",
              "    </tr>\n",
              "    <tr>\n",
              "      <th>4</th>\n",
              "      <td>1</td>\n",
              "      <td>241</td>\n",
              "      <td>-1</td>\n",
              "    </tr>\n",
              "  </tbody>\n",
              "</table>\n",
              "</div>"
            ],
            "text/plain": [
              "   user_id  anime_id  rating\n",
              "0        1        20      -1\n",
              "1        1        24      -1\n",
              "2        1        79      -1\n",
              "3        1       226      -1\n",
              "4        1       241      -1"
            ]
          },
          "execution_count": 5,
          "metadata": {},
          "output_type": "execute_result"
        }
      ],
      "source": [
        "df_rating.head()"
      ]
    },
    {
      "cell_type": "code",
      "execution_count": 6,
      "metadata": {
        "colab": {
          "base_uri": "https://localhost:8080/",
          "height": 319
        },
        "id": "eRc5-sfQZmxb",
        "outputId": "8ab19490-42c4-464f-e0be-01c68563f648"
      },
      "outputs": [
        {
          "data": {
            "text/html": [
              "<div>\n",
              "<style scoped>\n",
              "    .dataframe tbody tr th:only-of-type {\n",
              "        vertical-align: middle;\n",
              "    }\n",
              "\n",
              "    .dataframe tbody tr th {\n",
              "        vertical-align: top;\n",
              "    }\n",
              "\n",
              "    .dataframe thead th {\n",
              "        text-align: right;\n",
              "    }\n",
              "</style>\n",
              "<table border=\"1\" class=\"dataframe\">\n",
              "  <thead>\n",
              "    <tr style=\"text-align: right;\">\n",
              "      <th></th>\n",
              "      <th>anime_id</th>\n",
              "      <th>name</th>\n",
              "      <th>genre</th>\n",
              "      <th>type</th>\n",
              "      <th>episodes</th>\n",
              "      <th>rating</th>\n",
              "      <th>members</th>\n",
              "    </tr>\n",
              "  </thead>\n",
              "  <tbody>\n",
              "    <tr>\n",
              "      <th>0</th>\n",
              "      <td>32281</td>\n",
              "      <td>Kimi no Na wa.</td>\n",
              "      <td>Drama, Romance, School, Supernatural</td>\n",
              "      <td>Movie</td>\n",
              "      <td>1</td>\n",
              "      <td>9.37</td>\n",
              "      <td>200630</td>\n",
              "    </tr>\n",
              "    <tr>\n",
              "      <th>1</th>\n",
              "      <td>5114</td>\n",
              "      <td>Fullmetal Alchemist: Brotherhood</td>\n",
              "      <td>Action, Adventure, Drama, Fantasy, Magic, Mili...</td>\n",
              "      <td>TV</td>\n",
              "      <td>64</td>\n",
              "      <td>9.26</td>\n",
              "      <td>793665</td>\n",
              "    </tr>\n",
              "    <tr>\n",
              "      <th>2</th>\n",
              "      <td>28977</td>\n",
              "      <td>Gintama°</td>\n",
              "      <td>Action, Comedy, Historical, Parody, Samurai, S...</td>\n",
              "      <td>TV</td>\n",
              "      <td>51</td>\n",
              "      <td>9.25</td>\n",
              "      <td>114262</td>\n",
              "    </tr>\n",
              "    <tr>\n",
              "      <th>3</th>\n",
              "      <td>9253</td>\n",
              "      <td>Steins;Gate</td>\n",
              "      <td>Sci-Fi, Thriller</td>\n",
              "      <td>TV</td>\n",
              "      <td>24</td>\n",
              "      <td>9.17</td>\n",
              "      <td>673572</td>\n",
              "    </tr>\n",
              "    <tr>\n",
              "      <th>4</th>\n",
              "      <td>9969</td>\n",
              "      <td>Gintama&amp;#039;</td>\n",
              "      <td>Action, Comedy, Historical, Parody, Samurai, S...</td>\n",
              "      <td>TV</td>\n",
              "      <td>51</td>\n",
              "      <td>9.16</td>\n",
              "      <td>151266</td>\n",
              "    </tr>\n",
              "  </tbody>\n",
              "</table>\n",
              "</div>"
            ],
            "text/plain": [
              "   anime_id                              name  \\\n",
              "0     32281                    Kimi no Na wa.   \n",
              "1      5114  Fullmetal Alchemist: Brotherhood   \n",
              "2     28977                          Gintama°   \n",
              "3      9253                       Steins;Gate   \n",
              "4      9969                     Gintama&#039;   \n",
              "\n",
              "                                               genre   type episodes  rating  \\\n",
              "0               Drama, Romance, School, Supernatural  Movie        1    9.37   \n",
              "1  Action, Adventure, Drama, Fantasy, Magic, Mili...     TV       64    9.26   \n",
              "2  Action, Comedy, Historical, Parody, Samurai, S...     TV       51    9.25   \n",
              "3                                   Sci-Fi, Thriller     TV       24    9.17   \n",
              "4  Action, Comedy, Historical, Parody, Samurai, S...     TV       51    9.16   \n",
              "\n",
              "   members  \n",
              "0   200630  \n",
              "1   793665  \n",
              "2   114262  \n",
              "3   673572  \n",
              "4   151266  "
            ]
          },
          "execution_count": 6,
          "metadata": {},
          "output_type": "execute_result"
        }
      ],
      "source": [
        "df_anime.head()"
      ]
    },
    {
      "cell_type": "code",
      "execution_count": 7,
      "metadata": {
        "colab": {
          "base_uri": "https://localhost:8080/",
          "height": 247
        },
        "id": "ZzhSThsEWepW",
        "outputId": "0f95077f-ca7e-4d2b-fee8-abfa287551d3"
      },
      "outputs": [
        {
          "data": {
            "image/png": "[encoded data removed]",
            "text/plain": [
              "<Figure size 2000x500 with 3 Axes>"
            ]
          },
          "metadata": {},
          "output_type": "display_data"
        }
      ],
      "source": [
        "fig, axs = plt.subplots(1, 3, figsize=(20, 5))\n",
        "\n",
        "axs[0].hist(df_rating['user_id'], bins=20, color='blue', alpha=0.5)\n",
        "axs[1].hist(df_rating['anime_id'], bins=20, color='red', alpha=0.5)\n",
        "axs[2].hist(df_rating['rating'], bins=10, color='green', alpha=0.5)\n",
        "\n",
        "axs[0].set_title('user id')\n",
        "axs[1].set_title('anime id')\n",
        "axs[2].set_title('rating')\n",
        "axs[0].set_xlabel('ID')\n",
        "axs[1].set_xlabel('ID')\n",
        "axs[2].set_xlabel('score')\n",
        "axs[0].set_ylabel('total')\n",
        "axs[1].set_ylabel('total')\n",
        "axs[2].set_ylabel('total')\n",
        "\n",
        "plt.show()"
      ]
    },
    {
      "cell_type": "markdown",
      "metadata": {
        "id": "ogQPYCwCN7og"
      },
      "source": [
        "Các giá trị không được vote sẽ không ảnh hưởng đến kết quả cuối cùng vì vậy chúng ta có thể bỏ nó đi (thực tế thì chúng ta sẽ vote cho nó)"
      ]
    },
    {
      "cell_type": "code",
      "execution_count": 8,
      "metadata": {
        "id": "ohcvaGRWlTXR"
      },
      "outputs": [],
      "source": [
        "df_rating = df_rating.drop(index=df_rating[df_rating[\"rating\"] < 0].index)"
      ]
    },
    {
      "cell_type": "code",
      "execution_count": 9,
      "metadata": {
        "colab": {
          "base_uri": "https://localhost:8080/",
          "height": 206
        },
        "id": "yGrYkBkLlmfH",
        "outputId": "a5c062a4-65c8-4768-f1e7-10871752783e"
      },
      "outputs": [
        {
          "data": {
            "text/html": [
              "<div>\n",
              "<style scoped>\n",
              "    .dataframe tbody tr th:only-of-type {\n",
              "        vertical-align: middle;\n",
              "    }\n",
              "\n",
              "    .dataframe tbody tr th {\n",
              "        vertical-align: top;\n",
              "    }\n",
              "\n",
              "    .dataframe thead th {\n",
              "        text-align: right;\n",
              "    }\n",
              "</style>\n",
              "<table border=\"1\" class=\"dataframe\">\n",
              "  <thead>\n",
              "    <tr style=\"text-align: right;\">\n",
              "      <th></th>\n",
              "      <th>user_id</th>\n",
              "      <th>anime_id</th>\n",
              "      <th>rating</th>\n",
              "    </tr>\n",
              "  </thead>\n",
              "  <tbody>\n",
              "    <tr>\n",
              "      <th>47</th>\n",
              "      <td>1</td>\n",
              "      <td>8074</td>\n",
              "      <td>10</td>\n",
              "    </tr>\n",
              "    <tr>\n",
              "      <th>81</th>\n",
              "      <td>1</td>\n",
              "      <td>11617</td>\n",
              "      <td>10</td>\n",
              "    </tr>\n",
              "    <tr>\n",
              "      <th>83</th>\n",
              "      <td>1</td>\n",
              "      <td>11757</td>\n",
              "      <td>10</td>\n",
              "    </tr>\n",
              "    <tr>\n",
              "      <th>101</th>\n",
              "      <td>1</td>\n",
              "      <td>15451</td>\n",
              "      <td>10</td>\n",
              "    </tr>\n",
              "    <tr>\n",
              "      <th>153</th>\n",
              "      <td>2</td>\n",
              "      <td>11771</td>\n",
              "      <td>10</td>\n",
              "    </tr>\n",
              "  </tbody>\n",
              "</table>\n",
              "</div>"
            ],
            "text/plain": [
              "     user_id  anime_id  rating\n",
              "47         1      8074      10\n",
              "81         1     11617      10\n",
              "83         1     11757      10\n",
              "101        1     15451      10\n",
              "153        2     11771      10"
            ]
          },
          "execution_count": 9,
          "metadata": {},
          "output_type": "execute_result"
        }
      ],
      "source": [
        "df_rating.head()"
      ]
    },
    {
      "cell_type": "code",
      "execution_count": 10,
      "metadata": {
        "colab": {
          "base_uri": "https://localhost:8080/",
          "height": 247
        },
        "id": "mU5zRxuzVTRI",
        "outputId": "ffebdd95-76ee-4e83-c106-cb2bee4515f7"
      },
      "outputs": [
        {
          "data": {
            "image/png": "[encoded data removed]",
            "text/plain": [
              "<Figure size 2000x500 with 3 Axes>"
            ]
          },
          "metadata": {},
          "output_type": "display_data"
        }
      ],
      "source": [
        "fig, axs = plt.subplots(1, 3, figsize=(20, 5))\n",
        "\n",
        "axs[0].hist(df_rating['user_id'], bins=20, color='blue', alpha=0.5)\n",
        "axs[1].hist(df_rating['anime_id'], bins=20, color='red', alpha=0.5)\n",
        "axs[2].hist(df_rating['rating'], bins=10, color='green', alpha=0.5)\n",
        "\n",
        "axs[0].set_title('user id')\n",
        "axs[1].set_title('anime id')\n",
        "axs[2].set_title('rating')\n",
        "axs[0].set_xlabel('ID')\n",
        "axs[1].set_xlabel('ID')\n",
        "axs[2].set_xlabel('score')\n",
        "axs[0].set_ylabel('total')\n",
        "axs[1].set_ylabel('total')\n",
        "axs[2].set_ylabel('total')\n",
        "\n",
        "plt.show()"
      ]
    },
    {
      "cell_type": "markdown",
      "metadata": {
        "id": "N7-73Y6ZOEON"
      },
      "source": [
        "Hàm khởi tạo ma trận thể loại "
      ]
    },
    {
      "cell_type": "code",
      "execution_count": 11,
      "metadata": {
        "id": "FDx6PpzSjtFU"
      },
      "outputs": [],
      "source": [
        "def toBinaryMatrix(df, cols, inplace=False):\n",
        "  sample = list()\n",
        "  result = list()\n",
        "  for i in df[cols]:\n",
        "    sample.extend(i.split(', '))\n",
        "\n",
        "  sample = list(set(sample))\n",
        "  print(sample)\n",
        "  for i in df[cols]:\n",
        "    rsTemp = list()\n",
        "    temp = i.split(', ')\n",
        "    for j in sample:\n",
        "      if j in temp:\n",
        "        rsTemp.append(1)\n",
        "      else:\n",
        "        rsTemp.append(0)\n",
        "    result.append(rsTemp)\n",
        "  \n",
        "  if inplace == True:\n",
        "    df[cols] = result\n",
        "      \n",
        "  return result"
      ]
    },
    {
      "cell_type": "code",
      "execution_count": 12,
      "metadata": {
        "colab": {
          "base_uri": "https://localhost:8080/",
          "height": 374
        },
        "id": "ULIlPnvQt9ce",
        "outputId": "56979277-2283-45d2-f3f2-ff5dc0ab3466"
      },
      "outputs": [
        {
          "name": "stdout",
          "output_type": "stream",
          "text": [
            "['Adventure', 'Super Power', 'Psychological', 'Slice of Life', 'Cars', 'Fantasy', 'Music', 'Thriller', 'Shounen', 'Vampire', 'Drama', 'Hentai', 'Harem', 'Yaoi', 'Demons', 'Comedy', 'Mystery', 'Parody', 'Magic', 'Romance', 'Space', 'Josei', 'Shoujo', 'Action', 'Ecchi', 'Samurai', 'Sci-Fi', 'Historical', 'Shounen Ai', 'Kids', 'Yuri', 'Supernatural', 'Mecha', 'Horror', 'Dementia', 'Sports', 'Game', 'School', 'Military', 'Police', 'Shoujo Ai', 'Martial Arts', 'Seinen']\n"
          ]
        },
        {
          "data": {
            "text/html": [
              "<div>\n",
              "<style scoped>\n",
              "    .dataframe tbody tr th:only-of-type {\n",
              "        vertical-align: middle;\n",
              "    }\n",
              "\n",
              "    .dataframe tbody tr th {\n",
              "        vertical-align: top;\n",
              "    }\n",
              "\n",
              "    .dataframe thead th {\n",
              "        text-align: right;\n",
              "    }\n",
              "</style>\n",
              "<table border=\"1\" class=\"dataframe\">\n",
              "  <thead>\n",
              "    <tr style=\"text-align: right;\">\n",
              "      <th></th>\n",
              "      <th>anime_id</th>\n",
              "      <th>name</th>\n",
              "      <th>genre</th>\n",
              "      <th>type</th>\n",
              "      <th>episodes</th>\n",
              "      <th>rating</th>\n",
              "      <th>members</th>\n",
              "    </tr>\n",
              "  </thead>\n",
              "  <tbody>\n",
              "    <tr>\n",
              "      <th>0</th>\n",
              "      <td>32281</td>\n",
              "      <td>Kimi no Na wa.</td>\n",
              "      <td>[0, 0, 0, 0, 0, 0, 0, 0, 0, 0, 1, 0, 0, 0, 0, ...</td>\n",
              "      <td>Movie</td>\n",
              "      <td>1</td>\n",
              "      <td>9.37</td>\n",
              "      <td>200630</td>\n",
              "    </tr>\n",
              "    <tr>\n",
              "      <th>1</th>\n",
              "      <td>5114</td>\n",
              "      <td>Fullmetal Alchemist: Brotherhood</td>\n",
              "      <td>[1, 0, 0, 0, 0, 1, 0, 0, 1, 0, 1, 0, 0, 0, 0, ...</td>\n",
              "      <td>TV</td>\n",
              "      <td>64</td>\n",
              "      <td>9.26</td>\n",
              "      <td>793665</td>\n",
              "    </tr>\n",
              "    <tr>\n",
              "      <th>2</th>\n",
              "      <td>28977</td>\n",
              "      <td>Gintama°</td>\n",
              "      <td>[0, 0, 0, 0, 0, 0, 0, 0, 1, 0, 0, 0, 0, 0, 0, ...</td>\n",
              "      <td>TV</td>\n",
              "      <td>51</td>\n",
              "      <td>9.25</td>\n",
              "      <td>114262</td>\n",
              "    </tr>\n",
              "    <tr>\n",
              "      <th>3</th>\n",
              "      <td>9253</td>\n",
              "      <td>Steins;Gate</td>\n",
              "      <td>[0, 0, 0, 0, 0, 0, 0, 1, 0, 0, 0, 0, 0, 0, 0, ...</td>\n",
              "      <td>TV</td>\n",
              "      <td>24</td>\n",
              "      <td>9.17</td>\n",
              "      <td>673572</td>\n",
              "    </tr>\n",
              "    <tr>\n",
              "      <th>4</th>\n",
              "      <td>9969</td>\n",
              "      <td>Gintama&amp;#039;</td>\n",
              "      <td>[0, 0, 0, 0, 0, 0, 0, 0, 1, 0, 0, 0, 0, 0, 0, ...</td>\n",
              "      <td>TV</td>\n",
              "      <td>51</td>\n",
              "      <td>9.16</td>\n",
              "      <td>151266</td>\n",
              "    </tr>\n",
              "  </tbody>\n",
              "</table>\n",
              "</div>"
            ],
            "text/plain": [
              "   anime_id                              name  \\\n",
              "0     32281                    Kimi no Na wa.   \n",
              "1      5114  Fullmetal Alchemist: Brotherhood   \n",
              "2     28977                          Gintama°   \n",
              "3      9253                       Steins;Gate   \n",
              "4      9969                     Gintama&#039;   \n",
              "\n",
              "                                               genre   type episodes  rating  \\\n",
              "0  [0, 0, 0, 0, 0, 0, 0, 0, 0, 0, 1, 0, 0, 0, 0, ...  Movie        1    9.37   \n",
              "1  [1, 0, 0, 0, 0, 1, 0, 0, 1, 0, 1, 0, 0, 0, 0, ...     TV       64    9.26   \n",
              "2  [0, 0, 0, 0, 0, 0, 0, 0, 1, 0, 0, 0, 0, 0, 0, ...     TV       51    9.25   \n",
              "3  [0, 0, 0, 0, 0, 0, 0, 1, 0, 0, 0, 0, 0, 0, 0, ...     TV       24    9.17   \n",
              "4  [0, 0, 0, 0, 0, 0, 0, 0, 1, 0, 0, 0, 0, 0, 0, ...     TV       51    9.16   \n",
              "\n",
              "   members  \n",
              "0   200630  \n",
              "1   793665  \n",
              "2   114262  \n",
              "3   673572  \n",
              "4   151266  "
            ]
          },
          "execution_count": 12,
          "metadata": {},
          "output_type": "execute_result"
        }
      ],
      "source": [
        "toBinaryMatrix(df_anime, 'genre', inplace=True)\n",
        "df_anime.head()"
      ]
    },
    {
      "cell_type": "code",
      "execution_count": 13,
      "metadata": {
        "id": "kUeZorX1AwNs"
      },
      "outputs": [],
      "source": [
        "df = pd.merge(df_rating,df_anime.drop('rating',axis=1),on='anime_id')\n",
        "df.dropna(inplace=True)"
      ]
    },
    {
      "cell_type": "code",
      "execution_count": 14,
      "metadata": {
        "colab": {
          "base_uri": "https://localhost:8080/",
          "height": 337
        },
        "id": "KeI0TNMLA4_v",
        "outputId": "12eb919c-2968-4347-8bf1-3683638050dc"
      },
      "outputs": [
        {
          "data": {
            "text/html": [
              "<div>\n",
              "<style scoped>\n",
              "    .dataframe tbody tr th:only-of-type {\n",
              "        vertical-align: middle;\n",
              "    }\n",
              "\n",
              "    .dataframe tbody tr th {\n",
              "        vertical-align: top;\n",
              "    }\n",
              "\n",
              "    .dataframe thead th {\n",
              "        text-align: right;\n",
              "    }\n",
              "</style>\n",
              "<table border=\"1\" class=\"dataframe\">\n",
              "  <thead>\n",
              "    <tr style=\"text-align: right;\">\n",
              "      <th></th>\n",
              "      <th>user_id</th>\n",
              "      <th>anime_id</th>\n",
              "      <th>rating</th>\n",
              "      <th>name</th>\n",
              "      <th>genre</th>\n",
              "      <th>type</th>\n",
              "      <th>episodes</th>\n",
              "      <th>members</th>\n",
              "    </tr>\n",
              "  </thead>\n",
              "  <tbody>\n",
              "    <tr>\n",
              "      <th>0</th>\n",
              "      <td>1</td>\n",
              "      <td>8074</td>\n",
              "      <td>10</td>\n",
              "      <td>Highschool of the Dead</td>\n",
              "      <td>[0, 0, 0, 0, 0, 0, 0, 0, 0, 0, 0, 0, 0, 0, 0, ...</td>\n",
              "      <td>TV</td>\n",
              "      <td>12</td>\n",
              "      <td>535892</td>\n",
              "    </tr>\n",
              "    <tr>\n",
              "      <th>1</th>\n",
              "      <td>3</td>\n",
              "      <td>8074</td>\n",
              "      <td>6</td>\n",
              "      <td>Highschool of the Dead</td>\n",
              "      <td>[0, 0, 0, 0, 0, 0, 0, 0, 0, 0, 0, 0, 0, 0, 0, ...</td>\n",
              "      <td>TV</td>\n",
              "      <td>12</td>\n",
              "      <td>535892</td>\n",
              "    </tr>\n",
              "    <tr>\n",
              "      <th>2</th>\n",
              "      <td>5</td>\n",
              "      <td>8074</td>\n",
              "      <td>2</td>\n",
              "      <td>Highschool of the Dead</td>\n",
              "      <td>[0, 0, 0, 0, 0, 0, 0, 0, 0, 0, 0, 0, 0, 0, 0, ...</td>\n",
              "      <td>TV</td>\n",
              "      <td>12</td>\n",
              "      <td>535892</td>\n",
              "    </tr>\n",
              "    <tr>\n",
              "      <th>3</th>\n",
              "      <td>12</td>\n",
              "      <td>8074</td>\n",
              "      <td>6</td>\n",
              "      <td>Highschool of the Dead</td>\n",
              "      <td>[0, 0, 0, 0, 0, 0, 0, 0, 0, 0, 0, 0, 0, 0, 0, ...</td>\n",
              "      <td>TV</td>\n",
              "      <td>12</td>\n",
              "      <td>535892</td>\n",
              "    </tr>\n",
              "    <tr>\n",
              "      <th>4</th>\n",
              "      <td>14</td>\n",
              "      <td>8074</td>\n",
              "      <td>6</td>\n",
              "      <td>Highschool of the Dead</td>\n",
              "      <td>[0, 0, 0, 0, 0, 0, 0, 0, 0, 0, 0, 0, 0, 0, 0, ...</td>\n",
              "      <td>TV</td>\n",
              "      <td>12</td>\n",
              "      <td>535892</td>\n",
              "    </tr>\n",
              "  </tbody>\n",
              "</table>\n",
              "</div>"
            ],
            "text/plain": [
              "   user_id  anime_id  rating                    name  \\\n",
              "0        1      8074      10  Highschool of the Dead   \n",
              "1        3      8074       6  Highschool of the Dead   \n",
              "2        5      8074       2  Highschool of the Dead   \n",
              "3       12      8074       6  Highschool of the Dead   \n",
              "4       14      8074       6  Highschool of the Dead   \n",
              "\n",
              "                                               genre type episodes  members  \n",
              "0  [0, 0, 0, 0, 0, 0, 0, 0, 0, 0, 0, 0, 0, 0, 0, ...   TV       12   535892  \n",
              "1  [0, 0, 0, 0, 0, 0, 0, 0, 0, 0, 0, 0, 0, 0, 0, ...   TV       12   535892  \n",
              "2  [0, 0, 0, 0, 0, 0, 0, 0, 0, 0, 0, 0, 0, 0, 0, ...   TV       12   535892  \n",
              "3  [0, 0, 0, 0, 0, 0, 0, 0, 0, 0, 0, 0, 0, 0, 0, ...   TV       12   535892  \n",
              "4  [0, 0, 0, 0, 0, 0, 0, 0, 0, 0, 0, 0, 0, 0, 0, ...   TV       12   535892  "
            ]
          },
          "execution_count": 14,
          "metadata": {},
          "output_type": "execute_result"
        }
      ],
      "source": [
        "df.head()"
      ]
    },
    {
      "cell_type": "code",
      "execution_count": 15,
      "metadata": {
        "colab": {
          "base_uri": "https://localhost:8080/"
        },
        "id": "6EDMb4bh3ICO",
        "outputId": "cdf09e06-7bed-4c57-9fb1-ebcd67d47043"
      },
      "outputs": [
        {
          "name": "stdout",
          "output_type": "stream",
          "text": [
            "[0, 0, 0, 0, 0, 0, 0, 0, 0, 0, 1, 0, 0, 0, 0, 0, 0, 0, 0, 1, 0, 0, 0, 0, 0, 0, 0, 0, 0, 0, 0, 1, 0, 0, 0, 0, 0, 1, 0, 0, 0, 0, 0]\n"
          ]
        }
      ],
      "source": [
        "X_train_counts = df_anime['genre'].values\n",
        "print(X_train_counts[0])"
      ]
    },
    {
      "cell_type": "markdown",
      "metadata": {
        "id": "K7Acfo8dOLHn"
      },
      "source": [
        "Tính TF-IDF"
      ]
    },
    {
      "cell_type": "code",
      "execution_count": 17,
      "metadata": {
        "id": "Bhq1KE3U3cTo"
      },
      "outputs": [],
      "source": [
        "from sklearn.feature_extraction.text import TfidfTransformer\n",
        "transformer = TfidfTransformer(smooth_idf=True, norm ='l2')\n",
        "tfidf = transformer.fit_transform(X_train_counts.tolist()).toarray()"
      ]
    },
    {
      "cell_type": "code",
      "execution_count": 18,
      "metadata": {
        "colab": {
          "base_uri": "https://localhost:8080/"
        },
        "id": "_SJqKYNs3gLz",
        "outputId": "71cb2695-09ae-4e60-d9bf-9d741a3a8e0b"
      },
      "outputs": [
        {
          "name": "stdout",
          "output_type": "stream",
          "text": [
            "[0.         0.         0.         0.         0.         0.\n",
            " 0.         0.         0.         0.         0.43900839 0.\n",
            " 0.         0.         0.         0.         0.         0.\n",
            " 0.         0.48892081 0.         0.         0.         0.\n",
            " 0.         0.         0.         0.         0.         0.\n",
            " 0.         0.54547431 0.         0.         0.         0.\n",
            " 0.         0.52027478 0.         0.         0.         0.\n",
            " 0.        ]\n"
          ]
        }
      ],
      "source": [
        "print(tfidf[0])"
      ]
    },
    {
      "cell_type": "code",
      "execution_count": 20,
      "metadata": {
        "id": "p2soei-L3i1i"
      },
      "outputs": [],
      "source": [
        "import numpy as np\n",
        "def get_items_rated_by_user(rate_matrix, info_matrix, user_id):\n",
        "    \"\"\"\n",
        "    in each line of rate_matrix, we have infor: user_id, anime_id, rating (scores)\n",
        "    we care about the first three values\n",
        "    return (item_ids, scores) rated by user user_id\n",
        "    \"\"\"\n",
        "    y = rate_matrix[:,0] # all users\n",
        "    # item indices rated by user_id\n",
        "    # we need to +1 to user_id since in the rate_matrix, id starts from 1 \n",
        "    # while index in python starts from 0\n",
        "    ids = np.where(y == user_id)[0] \n",
        "    item_ids = rate_matrix[ids, 1] \n",
        "    scores = rate_matrix[ids, 2]\n",
        "    # print(item_ids, user_id)\n",
        "    item_ids_in_anime = list()\n",
        "    for i in item_ids:\n",
        "      # print(np.where(info_matrix[:, 0] == i)[0], i)\n",
        "      item_ids_in_anime.append(np.where(info_matrix[:, 0] == i)[0][0])\n",
        "\n",
        "    return (np.array(item_ids_in_anime), scores)"
      ]
    },
    {
      "cell_type": "code",
      "execution_count": 27,
      "metadata": {
        "colab": {
          "base_uri": "https://localhost:8080/"
        },
        "id": "_ADkyqev6D8S",
        "outputId": "9d5f0d37-7f03-4f88-c433-fc5cb5adc4f7"
      },
      "outputs": [
        {
          "name": "stdout",
          "output_type": "stream",
          "text": [
            "[1 8074 10 'Highschool of the Dead'\n",
            " list([0, 0, 0, 0, 0, 0, 0, 0, 0, 0, 0, 0, 0, 0, 0, 0, 0, 0, 0, 0, 0, 0, 0, 1, 1, 0, 0, 0, 0, 0, 0, 1, 0, 1, 0, 0, 0, 0, 0, 0, 0, 0, 0])\n",
            " 'TV' '12' 535892]\n",
            "[32281 'Kimi no Na wa.'\n",
            " list([0, 0, 0, 0, 0, 0, 0, 0, 0, 0, 1, 0, 0, 0, 0, 0, 0, 0, 0, 1, 0, 0, 0, 0, 0, 0, 0, 0, 0, 0, 0, 1, 0, 0, 0, 0, 0, 1, 0, 0, 0, 0, 0])\n",
            " 'Movie' '1' 9.37 200630]\n",
            "[    1     2     3 ... 39998 39999 40000]\n"
          ]
        }
      ],
      "source": [
        "# tao tap train thu\n",
        "df_new = df[df['user_id'] <= 40000]\n",
        "df_new = df_new.sort_values(by='user_id')\n",
        "rate_train = df_new.iloc[::2].values\n",
        "rate_test = df_new.iloc[1::2].values\n",
        "print(rate_train[0])\n",
        "anime_info = df_anime.values\n",
        "print(anime_info[0])\n",
        "user_ids = df_new['user_id'].unique()\n",
        "print(user_ids)"
      ]
    },
    {
      "cell_type": "code",
      "execution_count": 33,
      "metadata": {
        "colab": {
          "base_uri": "https://localhost:8080/"
        },
        "id": "0AzMaTyz4lFZ",
        "outputId": "626565f9-ea21-4882-9416-6068b668a7e8"
      },
      "outputs": [
        {
          "name": "stdout",
          "output_type": "stream",
          "text": [
            "[1 8074 10 'Highschool of the Dead'\n",
            " list([0, 0, 0, 0, 0, 0, 0, 0, 0, 0, 0, 0, 0, 0, 0, 0, 0, 0, 0, 0, 0, 0, 0, 1, 1, 0, 0, 0, 0, 0, 0, 1, 0, 1, 0, 0, 0, 0, 0, 0, 0, 0, 0])\n",
            " 'TV' '12' 535892]\n",
            "[32281 'Kimi no Na wa.'\n",
            " list([0, 0, 0, 0, 0, 0, 0, 0, 0, 0, 1, 0, 0, 0, 0, 0, 0, 0, 0, 1, 0, 0, 0, 0, 0, 0, 0, 0, 0, 0, 0, 1, 0, 0, 0, 0, 0, 1, 0, 0, 0, 0, 0])\n",
            " 'Movie' '1' 9.37 200630]\n",
            "[    1     2     3 ... 73514 73515 73516]\n"
          ]
        }
      ],
      "source": [
        "# tao tap train that\n",
        "df = df.sort_values(by='user_id')\n",
        "rate_train = df.iloc[::3].values\n",
        "rate_test = df.values\n",
        "indices_to_delete = np.arange(0, len(rate_test), 3)\n",
        "rate_test = np.delete(rate_test, indices_to_delete)\n",
        "print(rate_train[0])\n",
        "anime_info = df_anime.values\n",
        "print(anime_info[0])\n",
        "user_ids = df['user_id'].unique()\n",
        "print(user_ids)"
      ]
    },
    {
      "cell_type": "code",
      "execution_count": 93,
      "metadata": {
        "colab": {
          "base_uri": "https://localhost:8080/"
        },
        "id": "DsxODSgC47SZ",
        "outputId": "9a8e772e-a47c-4fab-f697-b86573301417"
      },
      "outputs": [
        {
          "name": "stdout",
          "output_type": "stream",
          "text": [
            "   anime_id            name  \\\n",
            "0     32281  Kimi no Na wa.   \n",
            "\n",
            "                                               genre   type episodes  rating  \\\n",
            "0  [0, 0, 0, 0, 0, 0, 0, 0, 0, 0, 0, 0, 1, 0, 0, ...  Movie        1    9.37   \n",
            "\n",
            "   members  \n",
            "0   200630  \n",
            "Empty DataFrame\n",
            "Columns: [user_id, anime_id, rating, name, genre, type, episodes, members]\n",
            "Index: []\n"
          ]
        }
      ],
      "source": [
        "filtered_df = df_anime.loc[df_anime['anime_id'] == 32281]\n",
        "print(filtered_df)\n",
        "\n",
        "filtered_df = df.loc[df['anime_id'] == 33242]\n",
        "print(filtered_df)"
      ]
    },
    {
      "cell_type": "code",
      "execution_count": 34,
      "metadata": {
        "id": "kzUtbSz74EgW"
      },
      "outputs": [],
      "source": [
        "from sklearn.linear_model import Ridge\n",
        "from sklearn import linear_model\n",
        "\n",
        "d = tfidf.shape[1] # data dimension\n",
        "W = np.zeros((d, np.max(user_ids) + 1))\n",
        "b = np.zeros((1, np.max(user_ids) + 1))\n",
        "\n",
        "for n in user_ids:    \n",
        "    # print(n)\n",
        "    ids, scores = get_items_rated_by_user(rate_train, anime_info, n)\n",
        "    clf = Ridge(alpha=0.01, fit_intercept  = True)\n",
        "    if len(ids) == 0:\n",
        "      ids = np.ones(1, dtype='int32')\n",
        "      scores = np.ones(1, dtype='int32')\n",
        "    # if n == 1:\n",
        "      # print(ids, '\\n', scores)\n",
        "    Xhat = tfidf[ids, :]\n",
        "    \n",
        "    clf.fit(Xhat, scores) \n",
        "    W[:, n] = clf.coef_\n",
        "    b[0, n] = clf.intercept_\n"
      ]
    },
    {
      "cell_type": "code",
      "execution_count": 35,
      "metadata": {
        "id": "1OnVMR-O7Z8I"
      },
      "outputs": [
        {
          "ename": "MemoryError",
          "evalue": "Unable to allocate 6.58 GiB for an array with shape (12017, 73517) and data type float64",
          "output_type": "error",
          "traceback": [
            "\u001b[1;31m---------------------------------------------------------------------------\u001b[0m",
            "\u001b[1;31mMemoryError\u001b[0m                               Traceback (most recent call last)",
            "Cell \u001b[1;32mIn[35], line 1\u001b[0m\n\u001b[1;32m----> 1\u001b[0m Yhat \u001b[39m=\u001b[39m tfidf\u001b[39m.\u001b[39;49mdot(W) \u001b[39m+\u001b[39m b\n",
            "\u001b[1;31mMemoryError\u001b[0m: Unable to allocate 6.58 GiB for an array with shape (12017, 73517) and data type float64"
          ]
        }
      ],
      "source": [
        "Yhat = tfidf.dot(W) + b"
      ]
    },
    {
      "cell_type": "code",
      "execution_count": 30,
      "metadata": {
        "colab": {
          "base_uri": "https://localhost:8080/"
        },
        "id": "-SV6dXIt7hgP",
        "outputId": "aa53e671-1acd-4685-c598-6a481a8897c8"
      },
      "outputs": [
        {
          "name": "stdout",
          "output_type": "stream",
          "text": [
            "Rated movies ids : [588 420 701 164 346  86 206   1 804]\n",
            "True ratings     : [9 9 9 7 9 9 8 10 9 9 9]\n",
            "Predicted ratings: [8.95 9.01 8.99 8.99 8.1  9.98 8.95 9.01 9.  ]\n"
          ]
        }
      ],
      "source": [
        "n = 12\n",
        "np.set_printoptions(precision=2) # 2 digits after . \n",
        "ids, scores = get_items_rated_by_user(rate_train, anime_info, n)\n",
        "ids = np.delete(ids, np.where(ids > 1000))\n",
        "\n",
        "Yhat[n, ids]\n",
        "print('Rated movies ids :', ids )\n",
        "print('True ratings     :', scores)\n",
        "print('Predicted ratings:', Yhat[ids, n])"
      ]
    },
    {
      "cell_type": "code",
      "execution_count": 31,
      "metadata": {
        "colab": {
          "base_uri": "https://localhost:8080/"
        },
        "id": "RUOC4Ee1-uYb",
        "outputId": "d1d6758b-b0e6-411e-cdb1-4bd0b81fa3fd"
      },
      "outputs": [
        {
          "name": "stdout",
          "output_type": "stream",
          "text": [
            "RMSE for training: 0.9176153033742785\n",
            "RMSE for test    : 1.6456025034301622\n"
          ]
        }
      ],
      "source": [
        "import math\n",
        "def evaluate(Yhat, rates, W, b):\n",
        "    se = 0\n",
        "    cnt = 0\n",
        "    for n in user_ids:\n",
        "        ids, scores_truth = get_items_rated_by_user(rates, anime_info, n)\n",
        "        if len(ids) == 0:\n",
        "          ids = np.ones(1, dtype='int32')\n",
        "          scores = np.ones(1, dtype='int32')\n",
        "        scores_pred = Yhat[ids, n]\n",
        "        e = scores_truth - scores_pred \n",
        "        se += (e*e).sum(axis = 0)\n",
        "        cnt += e.size \n",
        "    return math.sqrt(se/cnt)\n",
        "\n",
        "print('RMSE for training:', evaluate(Yhat, rate_train, W, b))\n",
        "print('RMSE for test    :', evaluate(Yhat, rate_test, W, b))"
      ]
    },
    {
      "cell_type": "markdown",
      "metadata": {
        "id": "buZ-xAHEORSL"
      },
      "source": [
        "trên thang đo điểm 10 với việc sai sót 1.65 điểm là điều có thể chấp nhận được trên tập test"
      ]
    }
  ],
  "metadata": {
    "colab": {
      "provenance": []
    },
    "kernelspec": {
      "display_name": "Python 3",
      "name": "python3"
    },
    "language_info": {
      "codemirror_mode": {
        "name": "ipython",
        "version": 3
      },
      "file_extension": ".py",
      "mimetype": "text/x-python",
      "name": "python",
      "nbconvert_exporter": "python",
      "pygments_lexer": "ipython3",
      "version": "3.10.0"
    }
  },
  "nbformat": 4,
  "nbformat_minor": 0
}
